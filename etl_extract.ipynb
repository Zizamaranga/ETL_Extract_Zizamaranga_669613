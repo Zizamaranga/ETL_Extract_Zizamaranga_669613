{
 "cells": [
  {
   "cell_type": "code",
   "execution_count": null,
   "id": "0c52d2c5",
   "metadata": {},
   "outputs": [
    {
     "data": {
      "text/html": [
       "<div>\n",
       "<style scoped>\n",
       "    .dataframe tbody tr th:only-of-type {\n",
       "        vertical-align: middle;\n",
       "    }\n",
       "\n",
       "    .dataframe tbody tr th {\n",
       "        vertical-align: top;\n",
       "    }\n",
       "\n",
       "    .dataframe thead th {\n",
       "        text-align: right;\n",
       "    }\n",
       "</style>\n",
       "<table border=\"1\" class=\"dataframe\">\n",
       "  <thead>\n",
       "    <tr style=\"text-align: right;\">\n",
       "      <th></th>\n",
       "      <th>SaleID</th>\n",
       "      <th>Date</th>\n",
       "      <th>Product</th>\n",
       "      <th>Quantity</th>\n",
       "      <th>Price</th>\n",
       "    </tr>\n",
       "  </thead>\n",
       "  <tbody>\n",
       "    <tr>\n",
       "      <th>0</th>\n",
       "      <td>1</td>\n",
       "      <td>2023-01-01</td>\n",
       "      <td>Doohickey</td>\n",
       "      <td>18</td>\n",
       "      <td>58.59</td>\n",
       "    </tr>\n",
       "    <tr>\n",
       "      <th>1</th>\n",
       "      <td>2</td>\n",
       "      <td>2023-01-02</td>\n",
       "      <td>Widget</td>\n",
       "      <td>12</td>\n",
       "      <td>28.28</td>\n",
       "    </tr>\n",
       "    <tr>\n",
       "      <th>2</th>\n",
       "      <td>3</td>\n",
       "      <td>2023-01-03</td>\n",
       "      <td>Doohickey</td>\n",
       "      <td>2</td>\n",
       "      <td>94.86</td>\n",
       "    </tr>\n",
       "    <tr>\n",
       "      <th>3</th>\n",
       "      <td>4</td>\n",
       "      <td>2023-01-04</td>\n",
       "      <td>Doohickey</td>\n",
       "      <td>10</td>\n",
       "      <td>63.90</td>\n",
       "    </tr>\n",
       "    <tr>\n",
       "      <th>4</th>\n",
       "      <td>5</td>\n",
       "      <td>2023-01-05</td>\n",
       "      <td>Widget</td>\n",
       "      <td>4</td>\n",
       "      <td>72.53</td>\n",
       "    </tr>\n",
       "    <tr>\n",
       "      <th>...</th>\n",
       "      <td>...</td>\n",
       "      <td>...</td>\n",
       "      <td>...</td>\n",
       "      <td>...</td>\n",
       "      <td>...</td>\n",
       "    </tr>\n",
       "    <tr>\n",
       "      <th>65</th>\n",
       "      <td>66</td>\n",
       "      <td>2023-03-07</td>\n",
       "      <td>Gadget</td>\n",
       "      <td>17</td>\n",
       "      <td>74.00</td>\n",
       "    </tr>\n",
       "    <tr>\n",
       "      <th>66</th>\n",
       "      <td>67</td>\n",
       "      <td>2023-03-08</td>\n",
       "      <td>Gadget</td>\n",
       "      <td>4</td>\n",
       "      <td>82.86</td>\n",
       "    </tr>\n",
       "    <tr>\n",
       "      <th>67</th>\n",
       "      <td>68</td>\n",
       "      <td>2023-03-09</td>\n",
       "      <td>Gadget</td>\n",
       "      <td>5</td>\n",
       "      <td>41.38</td>\n",
       "    </tr>\n",
       "    <tr>\n",
       "      <th>68</th>\n",
       "      <td>69</td>\n",
       "      <td>2023-03-10</td>\n",
       "      <td>Gadget</td>\n",
       "      <td>7</td>\n",
       "      <td>18.66</td>\n",
       "    </tr>\n",
       "    <tr>\n",
       "      <th>69</th>\n",
       "      <td>70</td>\n",
       "      <td>2023-03-11</td>\n",
       "      <td>Widget</td>\n",
       "      <td>13</td>\n",
       "      <td>94.65</td>\n",
       "    </tr>\n",
       "  </tbody>\n",
       "</table>\n",
       "<p>70 rows × 5 columns</p>\n",
       "</div>"
      ],
      "text/plain": [
       "    SaleID       Date    Product  Quantity  Price\n",
       "0        1 2023-01-01  Doohickey        18  58.59\n",
       "1        2 2023-01-02     Widget        12  28.28\n",
       "2        3 2023-01-03  Doohickey         2  94.86\n",
       "3        4 2023-01-04  Doohickey        10  63.90\n",
       "4        5 2023-01-05     Widget         4  72.53\n",
       "..     ...        ...        ...       ...    ...\n",
       "65      66 2023-03-07     Gadget        17  74.00\n",
       "66      67 2023-03-08     Gadget         4  82.86\n",
       "67      68 2023-03-09     Gadget         5  41.38\n",
       "68      69 2023-03-10     Gadget         7  18.66\n",
       "69      70 2023-03-11     Widget        13  94.65\n",
       "\n",
       "[70 rows x 5 columns]"
      ]
     },
     "execution_count": 15,
     "metadata": {},
     "output_type": "execute_result"
    }
   ],
   "source": [
    "import pandas as pd\n",
    "import numpy as np\n",
    "\n",
    "# Generate sample sales data\n",
    "np.random.seed(42)\n",
    "sales_data = pd.DataFrame({\n",
    "    'SaleID': range(1, 71),\n",
    "    'Date': pd.date_range(start='2023-01-01', periods=70, freq='D'),\n",
    "    'Product': np.random.choice(['Widget', 'Gadget', 'Doohickey'], size=70),\n",
    "    'Quantity': np.random.randint(1, 20, size=70),\n",
    "    'Price': np.round(np.random.uniform(10.0, 100.0, size=70), 2)\n",
    "})\n",
    "\n",
    "# Save to CSV\n",
    "sales_data.to_csv(r\"C:\\Users\\rosel\\Downloads\\ETL_Extract_Ziza Maranga_669613\\sales_data.csv\", index=False)\n",
    "\n",
    "# View the entries\n",
    "df = pd.DataFrame(sales_data)\n",
    "df.head(70)"
   ]
  },
  {
   "cell_type": "code",
   "execution_count": 16,
   "id": "a87b3d16",
   "metadata": {},
   "outputs": [
    {
     "name": "stdout",
     "output_type": "stream",
     "text": [
      "Number of rows: 70\n",
      "Number of columns: 5\n",
      "Sample data:\n",
      "   SaleID       Date    Product  Quantity  Price\n",
      "0       1 2023-01-01  Doohickey        18  58.59\n",
      "1       2 2023-01-02     Widget        12  28.28\n",
      "2       3 2023-01-03  Doohickey         2  94.86\n",
      "3       4 2023-01-04  Doohickey        10  63.90\n",
      "4       5 2023-01-05     Widget         4  72.53\n",
      "Extracted 70 rows fully.\n"
     ]
    }
   ],
   "source": [
    "# Load the entire dataset (already loaded as sales_data)\n",
    "# Display basic stats\n",
    "num_rows, num_cols = sales_data.shape\n",
    "print(f\"Number of rows: {num_rows}\")\n",
    "print(f\"Number of columns: {num_cols}\")\n",
    "print(\"Sample data:\")\n",
    "print(sales_data.head())\n",
    "\n",
    "print(f\"Extracted {num_rows} rows fully.\")"
   ]
  },
  {
   "cell_type": "code",
   "execution_count": 17,
   "id": "09559170",
   "metadata": {},
   "outputs": [],
   "source": [
    "with open(r\"C:\\Users\\rosel\\Downloads\\ETL_Extract_Ziza Maranga_669613\\last_extraction.txt\", \"w\", encoding=\"cp1252\") as f:\n",
    "    f.write(f\"Last extraction: {num_rows} rows, {num_cols} columns\\n\")"
   ]
  },
  {
   "cell_type": "code",
   "execution_count": 19,
   "id": "cc4cb885",
   "metadata": {},
   "outputs": [],
   "source": [
    "from datetime import datetime\n",
    "\n",
    "# Simulate a last extraction time and write to the file\n",
    "last_extraction_time = datetime.now().strftime(\"%Y-%m-%d %H:%M:%S\")\n",
    "with open(r\"C:\\Users\\rosel\\Downloads\\ETL_Extract_Ziza Maranga_669613\\last_extraction.txt\", \"a\", encoding=\"cp1252\") as f:\n",
    "    f.write(f\"Last extraction time: {last_extraction_time}\\n\")"
   ]
  },
  {
   "cell_type": "code",
   "execution_count": 10,
   "id": "767ed2c9",
   "metadata": {},
   "outputs": [
    {
     "name": "stdout",
     "output_type": "stream",
     "text": [
      "New or updated records:\n",
      "Empty DataFrame\n",
      "Columns: [SaleID, Date, Product, Quantity, Price]\n",
      "Index: []\n"
     ]
    }
   ],
   "source": [
    "# Assuming we want to extract records after the last extraction time\n",
    "# Convert last_extraction_time to datetime\n",
    "last_extraction_dt = pd.to_datetime(last_extraction_time)\n",
    "\n",
    "# Filter sales_data for new or updated records (Date > last_extraction_time)\n",
    "new_or_updated_records = sales_data[sales_data['Date'] > last_extraction_dt]\n",
    "\n",
    "print(\"New or updated records:\")\n",
    "print(new_or_updated_records)"
   ]
  },
  {
   "cell_type": "code",
   "execution_count": 11,
   "id": "ecdc985d",
   "metadata": {},
   "outputs": [
    {
     "name": "stdout",
     "output_type": "stream",
     "text": [
      "Extracted 0 rows incrementally since last check.\n"
     ]
    }
   ],
   "source": [
    "print(f\"Extracted {len(new_or_updated_records)} rows incrementally since last check.\")"
   ]
  },
  {
   "cell_type": "code",
   "execution_count": 20,
   "id": "c5b5b7a8",
   "metadata": {},
   "outputs": [],
   "source": [
    "# Update last_extraction.txt after successful incremental extraction\n",
    "with open(r\"C:\\Users\\rosel\\Downloads\\ETL_Extract_Ziza Maranga_669613\\last_extraction.txt\", \"a\", encoding=\"cp1252\") as f:\n",
    "    f.write(f\"Incremental extraction completed at: {datetime.now().strftime('%Y-%m-%d %H:%M:%S')}\\n\")"
   ]
  }
 ],
 "metadata": {
  "kernelspec": {
   "display_name": "Python 3",
   "language": "python",
   "name": "python3"
  },
  "language_info": {
   "codemirror_mode": {
    "name": "ipython",
    "version": 3
   },
   "file_extension": ".py",
   "mimetype": "text/x-python",
   "name": "python",
   "nbconvert_exporter": "python",
   "pygments_lexer": "ipython3",
   "version": "3.11.9"
  }
 },
 "nbformat": 4,
 "nbformat_minor": 5
}
